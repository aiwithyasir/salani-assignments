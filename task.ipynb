{
 "cells": [
  {
   "cell_type": "code",
   "execution_count": 3,
   "id": "e9170463-ed56-437b-9a52-0f742c52b611",
   "metadata": {},
   "outputs": [
    {
     "name": "stdout",
     "output_type": "stream",
     "text": [
      "Requirement already satisfied: bs4 in c:\\users\\yasir\\anaconda3\\lib\\site-packages (0.0.2)\n",
      "Requirement already satisfied: beautifulsoup4 in c:\\users\\yasir\\anaconda3\\lib\\site-packages (from bs4) (4.12.3)\n",
      "Requirement already satisfied: soupsieve>1.2 in c:\\users\\yasir\\anaconda3\\lib\\site-packages (from beautifulsoup4->bs4) (2.5)\n"
     ]
    }
   ],
   "source": [
    "!pip install bs4"
   ]
  },
  {
   "cell_type": "code",
   "execution_count": 1,
   "id": "84da94e4-bde5-4e99-85b2-0b49b5ee2af9",
   "metadata": {},
   "outputs": [],
   "source": [
    "import requests"
   ]
  },
  {
   "cell_type": "code",
   "execution_count": 33,
   "id": "66fb7f04-becd-41e7-ae74-3455e9f795ba",
   "metadata": {},
   "outputs": [],
   "source": [
    "from bs4 import BeautifulSoup\n",
    "import json\n",
    "import re\n",
    "import csv"
   ]
  },
  {
   "cell_type": "code",
   "execution_count": 37,
   "id": "9303a944-b99c-42b7-b7c2-fde10a710677",
   "metadata": {},
   "outputs": [
    {
     "name": "stdout",
     "output_type": "stream",
     "text": [
      "Data saved to thrift_books_data.csv successfully!\n"
     ]
    }
   ],
   "source": [
    "url = 'https://www.thriftbooks.com/api/browse/Search'\n",
    "\n",
    "headers = {\n",
    "    'Content-Type': 'application/json',\n",
    "    'Accept': 'application/json'\n",
    "}\n",
    "\n",
    "payload = {\n",
    "    \"currentPage\": 2,\n",
    "    \"displayType\": 1,\n",
    "    \"isCollectible\": True,\n",
    "    \"isInStock\": True,\n",
    "    \"isList\": True,\n",
    "    \"itemsPerPage\": \"50\",\n",
    "    \"resultsPerPage\": \"50\",\n",
    "    \"page\": 2,\n",
    "    \"searchTerms\": [\"\"],\n",
    "    \"sortBy\": \"mostPopular\",\n",
    "    \"sortDirection\": \"desc\",\n",
    "    \"tags\": [12529]\n",
    "}\n",
    "\n",
    "# Make the POST request\n",
    "response = requests.post(url, headers=headers, json=payload)\n",
    "\n",
    "# Parse the response JSON\n",
    "data = response.json()\n",
    "\n",
    "# Extract works (books)\n",
    "works = data.get('works', [])\n",
    "\n",
    "with open('thrift_books_data.csv', 'w', newline='', encoding='utf-8') as file:\n",
    "    writer = csv.writer(file)\n",
    "    # Write header row\n",
    "    writer.writerow(['Title', 'Condition', 'Buy Price', 'Author', 'Publisher', 'ISBN'])\n",
    "\n",
    "    # Write each book's data\n",
    "    for book in works:\n",
    "        title = book.get('title', '')\n",
    "        condition = book.get('buyNowCondition', '')\n",
    "        buy_price = book.get('buyNowPrice', '')\n",
    "        author = book.get('authors', [{}])[0].get('authorName', '') if book.get('authors') else ''\n",
    "        publisher = book.get('publisher', '')\n",
    "        isbn = book.get('iSBN', '')\n",
    "\n",
    "        writer.writerow([title, condition, buy_price, author, publisher, isbn])\n",
    "\n",
    "print(\"Data saved to thrift_books_data.csv successfully!\")"
   ]
  },
  {
   "cell_type": "code",
   "execution_count": null,
   "id": "07ef5809-e7f8-4937-baab-86c098051165",
   "metadata": {},
   "outputs": [],
   "source": []
  }
 ],
 "metadata": {
  "kernelspec": {
   "display_name": "Python 3 (ipykernel)",
   "language": "python",
   "name": "python3"
  },
  "language_info": {
   "codemirror_mode": {
    "name": "ipython",
    "version": 3
   },
   "file_extension": ".py",
   "mimetype": "text/x-python",
   "name": "python",
   "nbconvert_exporter": "python",
   "pygments_lexer": "ipython3",
   "version": "3.12.7"
  }
 },
 "nbformat": 4,
 "nbformat_minor": 5
}
