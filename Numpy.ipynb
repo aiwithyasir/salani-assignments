{
 "cells": [
  {
   "cell_type": "code",
   "execution_count": 2,
   "id": "24840abd",
   "metadata": {},
   "outputs": [
    {
     "name": "stdout",
     "output_type": "stream",
     "text": [
      "Requirement already satisfied: numpy in c:\\users\\dr.pc\\anaconda3\\lib\\site-packages (1.26.4)\n",
      "Note: you may need to restart the kernel to use updated packages.\n"
     ]
    }
   ],
   "source": [
    "pip install numpy"
   ]
  },
  {
   "cell_type": "markdown",
   "id": "7718f462",
   "metadata": {},
   "source": [
    "Numpy means numerical python \n",
    "//learning\n",
    "Big O kia hota hai \n",
    "time complexity kia hoti h\n",
    "\n",
    "numpy k array one data type k array support krta hai\n"
   ]
  },
  {
   "cell_type": "code",
   "execution_count": 1,
   "id": "094c2f2a",
   "metadata": {},
   "outputs": [
    {
     "data": {
      "text/plain": [
       "[2.3, 3.4, 4.4, 5.5, 6.6]"
      ]
     },
     "execution_count": 1,
     "metadata": {},
     "output_type": "execute_result"
    }
   ],
   "source": [
    "height = [2.3,3.4,4.4,5.5,6.6]\n",
    "height"
   ]
  },
  {
   "cell_type": "code",
   "execution_count": 6,
   "id": "b93be7b1",
   "metadata": {},
   "outputs": [
    {
     "data": {
      "text/plain": [
       "array([0.00023   , 0.00041975, 0.0006875 , 0.00112245, 0.00264   ])"
      ]
     },
     "execution_count": 6,
     "metadata": {},
     "output_type": "execute_result"
    }
   ],
   "source": [
    "import numpy as np\n",
    "weight = [100,90,80,70,50]\n",
    "np_height = np.array([2.3,3.4,4.4,5.5,6.6])\n",
    "np_weigth = np.array([100,90,80,70,50])\n",
    "\n",
    "bmi = np_height / np_weigth **2\n",
    "bmi\n"
   ]
  },
  {
   "cell_type": "code",
   "execution_count": null,
   "id": "cec0e0af",
   "metadata": {},
   "outputs": [
    {
     "data": {
      "text/plain": [
       "array([ 7,  9, 11, 13])"
      ]
     },
     "execution_count": 9,
     "metadata": {},
     "output_type": "execute_result"
    }
   ],
   "source": [
    "list1 = [1,2,3,4]\n",
    "list2 = [6,7,8,9]\n",
    "list1+list2  ## its combine the lists but if u see numpy\n",
    "\n",
    "listt1 = np.array([1,2,3,4])\n",
    "listt2 = np.array([6,7,8,9])\n",
    "listt1 + listt2 # its"
   ]
  },
  {
   "cell_type": "markdown",
   "id": "7d30d444",
   "metadata": {},
   "source": [
    "#Numpy Subsetting"
   ]
  },
  {
   "cell_type": "code",
   "execution_count": 10,
   "id": "2b1a58b6",
   "metadata": {},
   "outputs": [
    {
     "data": {
      "text/plain": [
       "array([7, 8, 9])"
      ]
     },
     "execution_count": 10,
     "metadata": {},
     "output_type": "execute_result"
    }
   ],
   "source": [
    "listt2 [listt2 > 6]"
   ]
  },
  {
   "cell_type": "code",
   "execution_count": 11,
   "id": "92a327dc",
   "metadata": {},
   "outputs": [
    {
     "data": {
      "text/plain": [
       "array([False, False, False, False])"
      ]
     },
     "execution_count": 11,
     "metadata": {},
     "output_type": "execute_result"
    }
   ],
   "source": [
    "listt1 > 5"
   ]
  },
  {
   "cell_type": "markdown",
   "id": "ca96ca70",
   "metadata": {},
   "source": [
    "Numpy 2d array "
   ]
  },
  {
   "cell_type": "code",
   "execution_count": 19,
   "id": "be4c76f8",
   "metadata": {},
   "outputs": [
    {
     "data": {
      "text/plain": [
       "array([[1, 2],\n",
       "       [3, 4],\n",
       "       [5, 6]])"
      ]
     },
     "execution_count": 19,
     "metadata": {},
     "output_type": "execute_result"
    }
   ],
   "source": [
    "arr2d = np.array([[1,2],[3,4],[5,6]])\n",
    "arr2d"
   ]
  },
  {
   "cell_type": "code",
   "execution_count": 18,
   "id": "83582f89",
   "metadata": {},
   "outputs": [
    {
     "data": {
      "text/plain": [
       "array([[1, 2],\n",
       "       [3, 4]])"
      ]
     },
     "execution_count": 18,
     "metadata": {},
     "output_type": "execute_result"
    }
   ],
   "source": [
    "arr2d[:2]"
   ]
  },
  {
   "cell_type": "code",
   "execution_count": 26,
   "id": "b17ad848",
   "metadata": {},
   "outputs": [
    {
     "name": "stdout",
     "output_type": "stream",
     "text": [
      "[[[1 1]\n",
      "  [2 2]]\n",
      "\n",
      " [[3 3]\n",
      "  [4 4]]]\n"
     ]
    }
   ],
   "source": [
    "arr3dc = np.array([\n",
    "                   [\n",
    "                       [1, 1],\n",
    "                       [2, 2]\n",
    "                   ],\n",
    "                   [\n",
    "                       [3, 3],\n",
    "                       [4, 4]\n",
    "                   ]\n",
    "                 ])\n",
    "print(arr3dc)"
   ]
  },
  {
   "cell_type": "markdown",
   "id": "d5ed6f48",
   "metadata": {},
   "source": [
    "Numpy properties"
   ]
  },
  {
   "cell_type": "code",
   "execution_count": 27,
   "id": "412d0b0c",
   "metadata": {},
   "outputs": [
    {
     "data": {
      "text/plain": [
       "(4,)"
      ]
     },
     "execution_count": 27,
     "metadata": {},
     "output_type": "execute_result"
    }
   ],
   "source": [
    "listt1 = np.array([1,2,3,4])\n",
    "listt2 = np.array([6,7,8,9])\n",
    "\n",
    "listt1.shape"
   ]
  },
  {
   "cell_type": "code",
   "execution_count": 30,
   "id": "eca9c5ab",
   "metadata": {},
   "outputs": [
    {
     "name": "stdout",
     "output_type": "stream",
     "text": [
      "(2, 2, 2)\n",
      "8\n",
      "int32\n"
     ]
    }
   ],
   "source": [
    "arr3dc = np.array([\n",
    "                   [\n",
    "                       [1, 1],\n",
    "                       [2, 2]\n",
    "                   ],\n",
    "                   [\n",
    "                       [3, 3],\n",
    "                       [4, 4]\n",
    "                   ]\n",
    "                 ])\n",
    "print(arr3dc.shape)\n",
    "print(arr3dc.size)\n",
    "print(arr3dc.dtype)"
   ]
  },
  {
   "cell_type": "markdown",
   "id": "3c8ce889",
   "metadata": {},
   "source": [
    "Builten Creation Methods\n",
    "zeros ones and many more"
   ]
  },
  {
   "cell_type": "code",
   "execution_count": 32,
   "id": "0d55635e",
   "metadata": {},
   "outputs": [
    {
     "data": {
      "text/plain": [
       "array([1, 2, 3, 4])"
      ]
     },
     "execution_count": 32,
     "metadata": {},
     "output_type": "execute_result"
    }
   ],
   "source": [
    "listt1 = np.array([1,2,3,4])\n",
    "listt2 = np.array([6,7,8,9])\n",
    "np.mod(listt1,listt2)"
   ]
  },
  {
   "cell_type": "markdown",
   "id": "638ead25",
   "metadata": {},
   "source": [
    "Matpolid"
   ]
  },
  {
   "cell_type": "code",
   "execution_count": 33,
   "id": "55643080",
   "metadata": {},
   "outputs": [
    {
     "name": "stdout",
     "output_type": "stream",
     "text": [
      "Requirement already satisfied: matplotlib in c:\\users\\dr.pc\\anaconda3\\lib\\site-packages (3.9.2)\n",
      "Requirement already satisfied: contourpy>=1.0.1 in c:\\users\\dr.pc\\anaconda3\\lib\\site-packages (from matplotlib) (1.2.0)\n",
      "Requirement already satisfied: cycler>=0.10 in c:\\users\\dr.pc\\anaconda3\\lib\\site-packages (from matplotlib) (0.11.0)\n",
      "Requirement already satisfied: fonttools>=4.22.0 in c:\\users\\dr.pc\\anaconda3\\lib\\site-packages (from matplotlib) (4.51.0)\n",
      "Requirement already satisfied: kiwisolver>=1.3.1 in c:\\users\\dr.pc\\anaconda3\\lib\\site-packages (from matplotlib) (1.4.4)\n",
      "Requirement already satisfied: numpy>=1.23 in c:\\users\\dr.pc\\anaconda3\\lib\\site-packages (from matplotlib) (1.26.4)\n",
      "Requirement already satisfied: packaging>=20.0 in c:\\users\\dr.pc\\anaconda3\\lib\\site-packages (from matplotlib) (24.1)\n",
      "Requirement already satisfied: pillow>=8 in c:\\users\\dr.pc\\anaconda3\\lib\\site-packages (from matplotlib) (10.4.0)\n",
      "Requirement already satisfied: pyparsing>=2.3.1 in c:\\users\\dr.pc\\anaconda3\\lib\\site-packages (from matplotlib) (3.1.2)\n",
      "Requirement already satisfied: python-dateutil>=2.7 in c:\\users\\dr.pc\\anaconda3\\lib\\site-packages (from matplotlib) (2.9.0.post0)\n",
      "Requirement already satisfied: six>=1.5 in c:\\users\\dr.pc\\anaconda3\\lib\\site-packages (from python-dateutil>=2.7->matplotlib) (1.16.0)\n",
      "Note: you may need to restart the kernel to use updated packages.\n"
     ]
    }
   ],
   "source": [
    "pip install matplotlib"
   ]
  },
  {
   "cell_type": "code",
   "execution_count": 1,
   "id": "12404d48",
   "metadata": {},
   "outputs": [
    {
     "name": "stderr",
     "output_type": "stream",
     "text": [
      "Matplotlib is building the font cache; this may take a moment.\n"
     ]
    }
   ],
   "source": [
    "import matplotlib.pyplot as pl"
   ]
  },
  {
   "cell_type": "code",
   "execution_count": 11,
   "id": "7ac55138",
   "metadata": {},
   "outputs": [
    {
     "data": {
      "image/png": "[encoded data removed]",
      "text/plain": [
       "<Figure size 640x480 with 1 Axes>"
      ]
     },
     "metadata": {},
     "output_type": "display_data"
    }
   ],
   "source": [
    "#line chart\n",
    "year = [2020,2021,2022,2024,2025,2026,2027]\n",
    "sales = [100,34,344,55,65,54,54]\n",
    "# making a plot and show the plot\n",
    "pl.bar(year,sales)\n",
    "pl.plot(year,sales, marker='o', linestyle='-', color='b')\n",
    "pl.xlabel(\"Time\")\n",
    "# pl.grid()\n",
    "pl.title(\"Sales Analysis\")\n",
    "pl.ylabel(\"Sales\")\n",
    "pl.show()"
   ]
  },
  {
   "cell_type": "code",
   "execution_count": null,
   "id": "c5d7733f",
   "metadata": {},
   "outputs": [],
   "source": [
    "# Scatter"
   ]
  }
 ],
 "metadata": {
  "kernelspec": {
   "display_name": "base",
   "language": "python",
   "name": "python3"
  },
  "language_info": {
   "codemirror_mode": {
    "name": "ipython",
    "version": 3
   },
   "file_extension": ".py",
   "mimetype": "text/x-python",
   "name": "python",
   "nbconvert_exporter": "python",
   "pygments_lexer": "ipython3",
   "version": "3.12.7"
  }
 },
 "nbformat": 4,
 "nbformat_minor": 5
}
