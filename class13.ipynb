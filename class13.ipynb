{
 "cells": [
  {
   "cell_type": "code",
   "execution_count": 1,
   "id": "8b0f24d9",
   "metadata": {},
   "outputs": [
    {
     "name": "stdout",
     "output_type": "stream",
     "text": [
      "Collecting bs4\n",
      "  Downloading bs4-0.0.2-py2.py3-none-any.whl.metadata (411 bytes)\n",
      "Requirement already satisfied: beautifulsoup4 in c:\\users\\dr.pc\\anaconda3\\lib\\site-packages (from bs4) (4.12.3)\n",
      "Requirement already satisfied: soupsieve>1.2 in c:\\users\\dr.pc\\anaconda3\\lib\\site-packages (from beautifulsoup4->bs4) (2.5)\n",
      "Downloading bs4-0.0.2-py2.py3-none-any.whl (1.2 kB)\n",
      "Installing collected packages: bs4\n",
      "Successfully installed bs4-0.0.2\n",
      "Note: you may need to restart the kernel to use updated packages.\n"
     ]
    }
   ],
   "source": [
    "pip install bs4"
   ]
  },
  {
   "cell_type": "code",
   "execution_count": 7,
   "id": "25f1c81b",
   "metadata": {},
   "outputs": [
    {
     "name": "stdout",
     "output_type": "stream",
     "text": [
      "1 BitcoinBTC\n",
      "2 EthereumETH\n",
      "3 TetherUSDT\n",
      "4 XRPXRP\n",
      "5 BNBBNB\n",
      "6 SolanaSOL\n",
      "7 USDCUSDC\n",
      "8 DogecoinDOGE\n",
      "9 CardanoADA\n",
      "10 TRONTRX\n"
     ]
    }
   ],
   "source": [
    "import requests\n",
    "from bs4 import BeautifulSoup\n",
    "url = 'https://coinmarketcap.com/'\n",
    "request = requests.get(url)\n",
    "soup = BeautifulSoup(request.content,'html.parser')\n",
    "table = soup.find('table',class_='cmc-table')\n",
    "rows = table.find_all('tr')\n",
    "for row in rows[1:11]:\n",
    "    table_data = row.find_all('td')\n",
    "    ramk = table_data[1].text\n",
    "    name = table_data[2].text\n",
    "    price = table_data[3].text\n",
    "    hour_change = table_data[4].text\n",
    "    day_change = table_data[5].text\n",
    "    mseven_days_chnge = table_data[6].text\n",
    "    market_cap = table_data[7].text\n",
    "    volume = table_data[8].text\n",
    "\n",
    "    print(ramk,name)"
   ]
  },
  {
   "cell_type": "code",
   "execution_count": 8,
   "id": "e208a6ff",
   "metadata": {},
   "outputs": [
    {
     "name": "stdout",
     "output_type": "stream",
     "text": [
      "Requirement already satisfied: selenium in c:\\users\\dr.pc\\anaconda3\\lib\\site-packages (3.141.0)\n",
      "Requirement already satisfied: urllib3 in c:\\users\\dr.pc\\anaconda3\\lib\\site-packages (from selenium) (1.26.20)\n",
      "Note: you may need to restart the kernel to use updated packages.\n"
     ]
    }
   ],
   "source": [
    "pip install selenium"
   ]
  },
  {
   "cell_type": "code",
   "execution_count": null,
   "id": "b6a27c7a",
   "metadata": {},
   "outputs": [],
   "source": [
    "from selenium import webdriver\n",
    "from selenium.webdriver.chrome.service import Service\n",
    "from selenium.webdriver.chrome.options import Options\n",
    "from selenium.webdriver.common.by import By\n",
    "option = Options()\n",
    "option.add_argument(\"--headless\")\n",
    "\n",
    "#bs4  ()\n",
    "#selenium (tags,class,id,xpath,js selectiors and css selectors)\n",
    "\n",
    "website = 'https://realpython.github.io/fake-jobs/'\n",
    "path = r'C:\\chromedriver-win64\\chromedriver.exe'\n",
    "service = Service(path)\n",
    "service.start()\n",
    "driver = webdriver.Chrome(path,options=option)\n",
    "driver.get(website)\n",
    "divs = driver.find_elements(By.CLASS_NAME,'column.is-half') ##if space is in class write dot between clasess\n",
    "for div in divs:\n",
    "    title = div.find_element(By.CLASS_NAME,'title.is-5').text\n",
    "    sub_title = div.find_element(By.CLASS_NAME,'subtitle.is-6.company').text\n",
    "\n",
    "    print(title,sub_title)  "
   ]
  },
  {
   "cell_type": "code",
   "execution_count": null,
   "id": "090a605d",
   "metadata": {},
   "outputs": [],
   "source": []
  }
 ],
 "metadata": {
  "kernelspec": {
   "display_name": "base",
   "language": "python",
   "name": "python3"
  },
  "language_info": {
   "codemirror_mode": {
    "name": "ipython",
    "version": 3
   },
   "file_extension": ".py",
   "mimetype": "text/x-python",
   "name": "python",
   "nbconvert_exporter": "python",
   "pygments_lexer": "ipython3",
   "version": "3.12.7"
  }
 },
 "nbformat": 4,
 "nbformat_minor": 5
}
