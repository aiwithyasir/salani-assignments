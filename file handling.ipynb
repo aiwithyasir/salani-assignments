{
 "cells": [
  {
   "cell_type": "markdown",
   "id": "e448118a-a946-4273-92b6-9afec0433920",
   "metadata": {},
   "source": [
    " ## File Handling\n",
    " Instructions\n",
    "\n",
    " \"r\" - Read - Default value. Opens a file for reading, error if the file does not exist\n",
    "\n",
    " \"a\" - Append - Opens a file for appending, creates the file if it does not exist\n",
    "\n",
    " \"w\" - Write - Opens a file for writing, creates the file if it does not exist\n",
    "\n",
    " \"x\" - Create - Creates the specified file, returns an error if the file exist"
   ]
  },
  {
   "cell_type": "code",
   "execution_count": 21,
   "id": "f0a8d492-0df6-4a44-8016-33f196e29e42",
   "metadata": {},
   "outputs": [],
   "source": [
    "with open('yasir.txt','w') as w:\n",
    "    w.write('This is first file')"
   ]
  },
  {
   "cell_type": "code",
   "execution_count": null,
   "id": "c1008ae1-9973-4409-9169-5900a68e9222",
   "metadata": {},
   "outputs": [],
   "source": [
    "with open('yasir.txt','r') as w:\n",
    "    print(w.read())"
   ]
  },
  {
   "cell_type": "code",
   "execution_count": null,
   "id": "c7d9b41f-7910-478a-b3fd-6238512bed1a",
   "metadata": {},
   "outputs": [],
   "source": [
    "import os as de\n",
    "de.listdir()"
   ]
  },
  {
   "cell_type": "code",
   "execution_count": null,
   "id": "5e47584e-c321-425f-afba-420d0f8f5762",
   "metadata": {},
   "outputs": [],
   "source": [
    "dict = {}\n",
    "try:\n",
    "    print(dict['hbyd'])\n",
    "except ZeroDivisionError: # will execute in case of specified errors only\n",
    "    print('You are dividing number by zero which is not possible.\\nKindly re run the code!!!')\n",
    "except Exception as e: # will excute for all errors\n",
    "    print(f'You are not following proper guidelines, error:{e}')\n",
    "else: # will execute if there is no error\n",
    "    print(\"Error\")\n",
    "finally: # will always execute whether there is an error or not\n",
    "    print('Program Completed')"
   ]
  },
  {
   "cell_type": "code",
   "execution_count": 3,
   "id": "8c245e90-d635-4e0f-8acc-e797229c9461",
   "metadata": {},
   "outputs": [
    {
     "name": "stdin",
     "output_type": "stream",
     "text": [
      "Enter a city name or \"q\" or \"0\" to exit the program:  karachi\n"
     ]
    },
    {
     "name": "stdout",
     "output_type": "stream",
     "text": [
      "karachi \n",
      "\n"
     ]
    },
    {
     "name": "stdin",
     "output_type": "stream",
     "text": [
      "Enter a city name or \"q\" or \"0\" to exit the program:  lahore\n"
     ]
    },
    {
     "name": "stdout",
     "output_type": "stream",
     "text": [
      "lahore \n",
      "\n"
     ]
    },
    {
     "name": "stdin",
     "output_type": "stream",
     "text": [
      "Enter a city name or \"q\" or \"0\" to exit the program:  islamabad\n"
     ]
    },
    {
     "name": "stdout",
     "output_type": "stream",
     "text": [
      "islamabad \n",
      "\n"
     ]
    },
    {
     "name": "stdin",
     "output_type": "stream",
     "text": [
      "Enter a city name or \"q\" or \"0\" to exit the program:  pindi\n"
     ]
    },
    {
     "name": "stdout",
     "output_type": "stream",
     "text": [
      "pindi \n",
      "\n"
     ]
    },
    {
     "name": "stdin",
     "output_type": "stream",
     "text": [
      "Enter a city name or \"q\" or \"0\" to exit the program:  0\n"
     ]
    },
    {
     "name": "stdout",
     "output_type": "stream",
     "text": [
      "Program Finished as User Entered \"q\" or \"0\"\n",
      "['karachi', 'lahore', 'islamabad', 'pindi']\n"
     ]
    }
   ],
   "source": [
    "user_input = \"\"\n",
    "cities = []\n",
    "while user_input != 'q' and user_input != '0': # while True it will run\n",
    "    user_input = input('Enter a city name or \"q\" or \"0\" to exit the program: ')\n",
    "    if (user_input != 'q') and (user_input != '0'):\n",
    "        cities.append(user_input)\n",
    "        print(user_input,'\\n')\n",
    "print('Program Finished as User Entered \"q\" or \"0\"')\n",
    "print(cities)"
   ]
  },
  {
   "cell_type": "code",
   "execution_count": null,
   "id": "5a904a69-7437-412b-81a2-69429c249f46",
   "metadata": {},
   "outputs": [],
   "source": []
  }
 ],
 "metadata": {
  "kernelspec": {
   "display_name": "Python 3 (ipykernel)",
   "language": "python",
   "name": "python3"
  },
  "language_info": {
   "codemirror_mode": {
    "name": "ipython",
    "version": 3
   },
   "file_extension": ".py",
   "mimetype": "text/x-python",
   "name": "python",
   "nbconvert_exporter": "python",
   "pygments_lexer": "ipython3",
   "version": "3.12.7"
  }
 },
 "nbformat": 4,
 "nbformat_minor": 5
}
