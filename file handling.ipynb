{
 "cells": [
  {
   "cell_type": "markdown",
   "id": "e448118a-a946-4273-92b6-9afec0433920",
   "metadata": {},
   "source": [
    " ## File Handling\n",
    " Instructions\n",
    "\n",
    " \"r\" - Read - Default value. Opens a file for reading, error if the file does not exist\n",
    "\n",
    " \"a\" - Append - Opens a file for appending, creates the file if it does not exist\n",
    "\n",
    " \"w\" - Write - Opens a file for writing, creates the file if it does not exist\n",
    "\n",
    " \"x\" - Create - Creates the specified file, returns an error if the file exist"
   ]
  },
  {
   "cell_type": "code",
   "execution_count": 21,
   "id": "f0a8d492-0df6-4a44-8016-33f196e29e42",
   "metadata": {},
   "outputs": [],
   "source": [
    "with open('yasir.txt','w') as w:\n",
    "    w.write('This is first file')"
   ]
  },
  {
   "cell_type": "code",
   "execution_count": 4,
   "id": "c1008ae1-9973-4409-9169-5900a68e9222",
   "metadata": {},
   "outputs": [
    {
     "name": "stdout",
     "output_type": "stream",
     "text": [
      "This is first file\n"
     ]
    }
   ],
   "source": [
    "with open('yasir.txt','r') as w:\n",
    "    print(w.read())"
   ]
  },
  {
   "cell_type": "code",
   "execution_count": null,
   "id": "c7d9b41f-7910-478a-b3fd-6238512bed1a",
   "metadata": {},
   "outputs": [],
   "source": [
    "import os as de\n",
    "de.listdir()"
   ]
  },
  {
   "cell_type": "code",
   "execution_count": null,
   "id": "5e47584e-c321-425f-afba-420d0f8f5762",
   "metadata": {},
   "outputs": [],
   "source": [
    "dict = {}\n",
    "try:\n",
    "    print(dict['hbyd'])\n",
    "except ZeroDivisionError: # will execute in case of specified errors only\n",
    "    print('You are dividing number by zero which is not possible.\\nKindly re run the code!!!')\n",
    "except Exception as e: # will excute for all errors\n",
    "    print(f'You are not following proper guidelines, error:{e}')\n",
    "else: # will execute if there is no error\n",
    "    print(\"Error\")\n",
    "finally: # will always execute whether there is an error or not\n",
    "    print('Program Completed')"
   ]
  },
  {
   "cell_type": "code",
   "execution_count": 3,
   "id": "8c245e90-d635-4e0f-8acc-e797229c9461",
   "metadata": {},
   "outputs": [
    {
     "name": "stdin",
     "output_type": "stream",
     "text": [
      "Enter a city name or \"q\" or \"0\" to exit the program:  karachi\n"
     ]
    },
    {
     "name": "stdout",
     "output_type": "stream",
     "text": [
      "karachi \n",
      "\n"
     ]
    },
    {
     "name": "stdin",
     "output_type": "stream",
     "text": [
      "Enter a city name or \"q\" or \"0\" to exit the program:  lahore\n"
     ]
    },
    {
     "name": "stdout",
     "output_type": "stream",
     "text": [
      "lahore \n",
      "\n"
     ]
    },
    {
     "name": "stdin",
     "output_type": "stream",
     "text": [
      "Enter a city name or \"q\" or \"0\" to exit the program:  faislabad\n"
     ]
    },
    {
     "name": "stdout",
     "output_type": "stream",
     "text": [
      "faislabad \n",
      "\n"
     ]
    },
    {
     "name": "stdin",
     "output_type": "stream",
     "text": [
      "Enter a city name or \"q\" or \"0\" to exit the program:  q\n"
     ]
    },
    {
     "name": "stdout",
     "output_type": "stream",
     "text": [
      "Program Finished as User Entered \"q\" or \"0\"\n",
      "['karachi', 'lahore', 'faislabad']\n"
     ]
    }
   ],
   "source": [
    "user_input = \"\"\n",
    "cities = []\n",
    "while user_input != 'q' and user_input != '0': # while True it will run\n",
    "    user_input = input('Enter a city name or \"q\" or \"0\" to exit the program: ')\n",
    "    if (user_input != 'q') and (user_input != '0'):\n",
    "        cities.append(user_input)\n",
    "        print(user_input,'\\n')\n",
    "print('Program Finished as User Entered \"q\" or \"0\"')\n",
    "print(cities)"
   ]
  },
  {
   "cell_type": "code",
   "execution_count": 43,
   "id": "5a904a69-7437-412b-81a2-69429c249f46",
   "metadata": {},
   "outputs": [],
   "source": [
    "class dawateislami():\n",
    "    founder = \"ilyas qadri\"\n",
    "    counries = 300\n",
    "    \n",
    "    def __init__(self, name, age):\n",
    "        self.name = name\n",
    "        self.age = age\n",
    "\n",
    "    def info(self):\n",
    "       return f'Dawateisalmi is giving best in the current era of islam under the leadership of  {dawateislami.founder} in more than {dawateislami.counries}  countries'"
   ]
  },
  {
   "cell_type": "code",
   "execution_count": 44,
   "id": "303440b1-ce73-42f0-b1d4-e42dfab2b32d",
   "metadata": {},
   "outputs": [
    {
     "name": "stdout",
     "output_type": "stream",
     "text": [
      "yasir\n",
      "20\n",
      "Dawateisalmi is giving best in the current era of islam under the leadership of  ilyas qadri in more than 300  countries\n"
     ]
    }
   ],
   "source": [
    "obj = dawateislami('yasir',20)\n",
    "print(obj.name)\n",
    "print(obj.age)\n",
    "print(obj.info())"
   ]
  },
  {
   "cell_type": "code",
   "execution_count": null,
   "id": "feb9d1cc-db9c-4801-840c-aa968d225828",
   "metadata": {},
   "outputs": [],
   "source": []
  },
  {
   "cell_type": "code",
   "execution_count": null,
   "id": "d1779856-20d0-4f7a-99e0-f4a188d689d8",
   "metadata": {},
   "outputs": [],
   "source": []
  }
 ],
 "metadata": {
  "kernelspec": {
   "display_name": "Python 3 (ipykernel)",
   "language": "python",
   "name": "python3"
  },
  "language_info": {
   "codemirror_mode": {
    "name": "ipython",
    "version": 3
   },
   "file_extension": ".py",
   "mimetype": "text/x-python",
   "name": "python",
   "nbconvert_exporter": "python",
   "pygments_lexer": "ipython3",
   "version": "3.12.7"
  }
 },
 "nbformat": 4,
 "nbformat_minor": 5
}
