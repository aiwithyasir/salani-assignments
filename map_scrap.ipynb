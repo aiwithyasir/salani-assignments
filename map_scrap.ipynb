{
 "cells": [
  {
   "cell_type": "code",
   "execution_count": 2,
   "id": "42054e5b",
   "metadata": {},
   "outputs": [
    {
     "name": "stdout",
     "output_type": "stream",
     "text": [
      "Derwandi\n",
      "Al Khayma Heritage Restaurant | مطعم الخيمة التراثي\n",
      "Mr. Arab\n",
      "Tribes Mall of The Emirates\n",
      "Emirates Sea Restaurant - Dubai\n",
      "KASTAN UAE\n"
     ]
    }
   ],
   "source": [
    "from selenium import webdriver\n",
    "from selenium.webdriver.chrome.service import Service\n",
    "from selenium.webdriver.chrome.options import Options\n",
    "from selenium.webdriver.common.by import By\n",
    "import pandas as pd\n",
    "import time\n",
    "\n",
    "options = Options()\n",
    "options.add_argument(\"--headless\")\n",
    "options.add_argument(\"--disable-gpu\")\n",
    "options.add_argument(\"--window-size=1920,1080\")\n",
    "\n",
    "path = r'C:\\chromedriver-win64\\chromedriver.exe'\n",
    "service = Service(path)\n",
    "service.start()\n",
    "\n",
    "driver = webdriver.Chrome(path,options=options)\n",
    "driver.get(\"https://www.google.com/maps/\")\n",
    "\n",
    "search_input = driver.find_element(By.CLASS_NAME,\"searchboxinput\")\n",
    "search_input.send_keys(\"United Arab Emirates : resturent\")\n",
    "\n",
    "serach_icon = driver.find_element(By.CLASS_NAME ,\"mL3xi\").click()\n",
    "data = []\n",
    "\n",
    "time.sleep(3)\n",
    "rows = driver.find_elements(By.CLASS_NAME, \"Nv2PK\")\n",
    "time.sleep(2)\n",
    "\n",
    "for row in rows[1:]:\n",
    "    title = row.find_element(By.CLASS_NAME, 'fontHeadlineSmall').text\n",
    "\n",
    "    print(title)\n",
    "    # data.append({\n",
    "    #     \"Title\": title\n",
    "    #     # \"LDCP\": cols[1].text if len(cols) > 1 else '',\n",
    "    #     # \"OPEN\": cols[2].text if len(cols) > 2 else '',\n",
    "    #     # \"HIGH\": cols[3].text if len(cols) > 3 else '',\n",
    "    #     # \"LOW\": cols[4].text if len(cols) > 4 else '',\n",
    "    #     # \"CURRENT\": cols[5].text if len(cols) > 5 else '',\n",
    "    #     # \"CHANGE\": cols[6].text if len(cols) > 6 else '',\n",
    "    #     # \"Volume\": cols[7].text if len(cols) > 7 else ''\n",
    "    # })\n",
    "\n",
    "# driver.quit()\n",
    "\n",
    "# df = pd.DataFrame(data)\n",
    "# df.to_excel(\"UAE_Resturants.xlsx\", index=True)\n",
    "\n",
    "# print(\"✅ Data saved to 'UAE_Resturants.xlsx'\")\n"
   ]
  },
  {
   "cell_type": "code",
   "execution_count": null,
   "id": "4e4a19a4",
   "metadata": {},
   "outputs": [],
   "source": []
  }
 ],
 "metadata": {
  "kernelspec": {
   "display_name": "base",
   "language": "python",
   "name": "python3"
  },
  "language_info": {
   "codemirror_mode": {
    "name": "ipython",
    "version": 3
   },
   "file_extension": ".py",
   "mimetype": "text/x-python",
   "name": "python",
   "nbconvert_exporter": "python",
   "pygments_lexer": "ipython3",
   "version": "3.12.7"
  }
 },
 "nbformat": 4,
 "nbformat_minor": 5
}
