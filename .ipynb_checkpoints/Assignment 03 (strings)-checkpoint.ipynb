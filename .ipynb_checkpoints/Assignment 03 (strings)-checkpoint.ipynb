{
 "cells": [
  {
   "cell_type": "markdown",
   "metadata": {},
   "source": [
    "1. Write a program that accepts a string from user. Your program should count and display number of\n",
    "vowels in that string. "
   ]
  },
  {
   "cell_type": "code",
   "execution_count": 2,
   "metadata": {},
   "outputs": [
    {
     "name": "stdin",
     "output_type": "stream",
     "text": [
      "Enter a string:  yasir\n"
     ]
    },
    {
     "name": "stdout",
     "output_type": "stream",
     "text": [
      "Number of vowels in the given string: 2\n"
     ]
    }
   ],
   "source": [
    "def count_vowels(string):\n",
    "    vowels = \"aeiouAEIOU\"\n",
    "    count = sum(1 for char in string if char in vowels)\n",
    "    return count\n",
    "text = input(\"Enter a string: \")\n",
    "vowel_count = count_vowels(text)\n",
    "print(f\"Number of vowels in the given string: {vowel_count}\")\n"
   ]
  },
  {
   "cell_type": "markdown",
   "metadata": {},
   "source": [
    " 2. Write a program that reads a string from keyboard and display:\n",
    "* The number of uppercase letters in the string\n",
    "* The number of lowercase letters in the string\n",
    "* The number of digits in the string\n",
    "* The number of whitespace characters in the string"
   ]
  },
  {
   "cell_type": "code",
   "execution_count": 3,
   "metadata": {},
   "outputs": [
    {
     "name": "stdin",
     "output_type": "stream",
     "text": [
      "Enter a string:  poyoil\n"
     ]
    },
    {
     "name": "stdout",
     "output_type": "stream",
     "text": [
      "Number of uppercase letters: 0\n",
      "Number of lowercase letters: 6\n",
      "Number of digits: 0\n",
      "Number of whitespace characters: 0\n"
     ]
    }
   ],
   "source": [
    "\n",
    "def count_characters(string):\n",
    "    uppercase = sum(1 for char in string if char.isupper())\n",
    "    lowercase = sum(1 for char in string if char.islower())\n",
    "    digits = sum(1 for char in string if char.isdigit())\n",
    "    whitespace = sum(1 for char in string if char.isspace())\n",
    "\n",
    "    return uppercase, lowercase, digits, whitespace\n",
    "    \n",
    "text = input(\"Enter a string: \")\n",
    "\n",
    "upper_count, lower_count, digit_count, space_count = count_characters(text)\n",
    "\n",
    "print(f\"Number of uppercase letters: {upper_count}\")\n",
    "print(f\"Number of lowercase letters: {lower_count}\")\n",
    "print(f\"Number of digits: {digit_count}\")\n",
    "print(f\"Number of whitespace characters: {space_count}\")\n"
   ]
  },
  {
   "cell_type": "markdown",
   "metadata": {},
   "source": [
    "\n",
    "3. Write a Python program that accepts a string from user. Your program should create and display a\n",
    "new string where the first and last characters have been exchanged. \n"
   ]
  },
  {
   "cell_type": "code",
   "execution_count": 4,
   "metadata": {},
   "outputs": [
    {
     "name": "stdin",
     "output_type": "stream",
     "text": [
      "Enter a string:  sammer\n"
     ]
    },
    {
     "name": "stdout",
     "output_type": "stream",
     "text": [
      "Modified string: rammes\n"
     ]
    }
   ],
   "source": [
    "\n",
    "def swap_first_last(string):\n",
    "    if len(string) < 2:\n",
    "        return string \n",
    "    return string[-1] + string[1:-1] + string[0]\n",
    "text = input(\"Enter a string: \")\n",
    "swapped_text = swap_first_last(text)\n",
    "print(f\"Modified string: {swapped_text}\")\n"
   ]
  },
  {
   "cell_type": "markdown",
   "metadata": {},
   "source": [
    "5. Write a Python program that accepts a string from user. Your program should create a new string by\n",
    "shifting one position to left"
   ]
  },
  {
   "cell_type": "code",
   "execution_count": 5,
   "metadata": {},
   "outputs": [
    {
     "name": "stdin",
     "output_type": "stream",
     "text": [
      "Enter a string:  bilal\n"
     ]
    },
    {
     "name": "stdout",
     "output_type": "stream",
     "text": [
      "ilalb\n"
     ]
    }
   ],
   "source": [
    "\n",
    "def shift_left(string):\n",
    "    if len(string) < 2:\n",
    "        return string\n",
    "    return string[1:] + string[0]\n",
    "    \n",
    "text = input(\"Enter a string: \")\n",
    "\n",
    "shifted_text = shift_left(text)\n",
    "print(shifted_text)\n"
   ]
  },
  {
   "cell_type": "markdown",
   "metadata": {},
   "source": [
    " 6. Write a program that asks the user to input his name and print its initials. Assuming that the user\n",
    "always types first name, middle name and last name and does not include any unnecessary spaces.\n",
    "For example, if the user enters Ajay Kumar Garg the program should display A. K. G.\n",
    "Note:Don't use split() method"
   ]
  },
  {
   "cell_type": "code",
   "execution_count": 6,
   "metadata": {},
   "outputs": [
    {
     "name": "stdin",
     "output_type": "stream",
     "text": [
      "Enter your full name (First Middle Last):  Muhammad Sameer Hussain\n"
     ]
    },
    {
     "name": "stdout",
     "output_type": "stream",
     "text": [
      "Initials: M. S. H.\n"
     ]
    }
   ],
   "source": [
    "\n",
    "def get_initials(name):\n",
    "    initials = \"\"  \n",
    "    in_word = True\n",
    "    \n",
    "    for char in name:\n",
    "        if in_word:  \n",
    "            initials += char.upper() + \". \"\n",
    "            in_word = False\n",
    "        if char == \" \":  \n",
    "            in_word = True\n",
    "    \n",
    "    return initials.strip()\n",
    "\n",
    "\n",
    "full_name = input(\"Enter your full name (First Middle Last): \")\n",
    "\n",
    "print(f\"Initials: {get_initials(full_name)}\")\n"
   ]
  },
  {
   "cell_type": "markdown",
   "metadata": {},
   "source": [
    "7. A palindrome is a string that reads the same backward as forward. For example, the words dad,\n",
    "madam and radar are all palindromes. Write a programs that determines whether the string is a\n",
    "palindrome. "
   ]
  },
  {
   "cell_type": "code",
   "execution_count": 7,
   "metadata": {},
   "outputs": [
    {
     "name": "stdin",
     "output_type": "stream",
     "text": [
      "Enter a string:  tando adam\n"
     ]
    },
    {
     "name": "stdout",
     "output_type": "stream",
     "text": [
      "The string is NOT a palindrome.\n"
     ]
    }
   ],
   "source": [
    "\n",
    "def is_palindrome(string):\n",
    "    length = len(string)\n",
    "    for i in range(length // 2):\n",
    "        if string[i] != string[length - i - 1]:\n",
    "            return False\n",
    "    return True\n",
    "text = input(\"Enter a string: \").lower()\n",
    "\n",
    "if is_palindrome(text):\n",
    "    print(\"The string is a palindrome.\")\n",
    "else:\n",
    "    print(\"The string is NOT a palindrome.\")\n"
   ]
  },
  {
   "cell_type": "markdown",
   "metadata": {},
   "source": [
    "8. Write a program that display following output:\n",
    "SHIFT\n",
    "HIFTS\n",
    "IFTSH\n",
    "FTSHI\n",
    "TSHIF\n",
    "SHIFT"
   ]
  },
  {
   "cell_type": "code",
   "execution_count": 13,
   "metadata": {},
   "outputs": [
    {
     "name": "stdout",
     "output_type": "stream",
     "text": [
      "SHIFT\n",
      "HIFTS\n",
      "IFTSH\n",
      "FTSHI\n",
      "TSHIF\n"
     ]
    }
   ],
   "source": [
    "\n",
    "def shifts(string):\n",
    "    length = len(string)\n",
    "    for i in range(length):\n",
    "        print(string[i:] + string[:i]) \n",
    "text = \"SHIFT\"\n",
    "\n",
    "shifts(text)\n"
   ]
  },
  {
   "cell_type": "markdown",
   "metadata": {},
   "source": [
    " 9. Write a program in python that accepts a string to setup a passwords. Your entered password must\n",
    "meet the following requirements:\n",
    "The password must be at least eight characters long.\n",
    "It must contain at least one uppercase letter.\n",
    "It must contain at least one lowercase letter.\n",
    "It must contain at least one numeric digit.\n",
    "Your program should should perform this validation"
   ]
  },
  {
   "cell_type": "code",
   "execution_count": 14,
   "metadata": {},
   "outputs": [
    {
     "name": "stdin",
     "output_type": "stream",
     "text": [
      "Enter a password:  Password@321\n"
     ]
    },
    {
     "name": "stdout",
     "output_type": "stream",
     "text": [
      "Password is valid.\n"
     ]
    }
   ],
   "source": [
    "\n",
    "def is_valid_password(password):\n",
    "    if len(password) < 8:\n",
    "        return \"Password must be at least 8 characters long.\"\n",
    "\n",
    "    has_upper = has_lower = has_digit = False\n",
    "    \n",
    "    for char in password:\n",
    "        if char.isupper():\n",
    "            has_upper = True\n",
    "        if char.islower():\n",
    "            has_lower = True\n",
    "        if char.isdigit():\n",
    "            has_digit = True\n",
    "\n",
    "    if not has_upper:\n",
    "        return \"Password must contain at least one uppercase letter.\"\n",
    "    if not has_lower:\n",
    "        return \"Password must contain at least one lowercase letter.\"\n",
    "    if not has_digit:\n",
    "        return \"Password must contain at least one numeric digit.\"\n",
    "    \n",
    "    return \"Password is valid.\"\n",
    "\n",
    "password = input(\"Enter a password: \")\n",
    "\n",
    "print(is_valid_password(password))\n"
   ]
  },
  {
   "cell_type": "code",
   "execution_count": null,
   "metadata": {},
   "outputs": [],
   "source": []
  }
 ],
 "metadata": {
  "kernelspec": {
   "display_name": "Python 3 (ipykernel)",
   "language": "python",
   "name": "python3"
  },
  "language_info": {
   "codemirror_mode": {
    "name": "ipython",
    "version": 3
   },
   "file_extension": ".py",
   "mimetype": "text/x-python",
   "name": "python",
   "nbconvert_exporter": "python",
   "pygments_lexer": "ipython3",
   "version": "3.12.7"
  }
 },
 "nbformat": 4,
 "nbformat_minor": 4
}
