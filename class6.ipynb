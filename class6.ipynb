{
 "cells": [
  {
   "cell_type": "markdown",
   "id": "7d8a30a3-b807-4890-9a5c-df529c665ea9",
   "metadata": {},
   "source": [
    "## class 6"
   ]
  },
  {
   "cell_type": "markdown",
   "id": "145838cd-b56f-4671-b73b-7294bf1c7646",
   "metadata": {},
   "source": [
    "# Python\n",
    "\n",
    "**Why OOP was needed?**\n",
    "\n",
    "OOP is design pattern (systemic manner) that helps you to write code that can be easily, increase the overall readability of the code, helps you to wrote clean code and increased the  scalability to the over all applucation or program.\n",
    "\n",
    "**Pillars in the OOP**\n",
    "\n",
    "- Inheritance\n",
    "- Encapsulation\n",
    "- Polymorphism\n",
    "- Abstraction\n",
    "**Class** is basically a blueprint having attribute(properties/Characteristics) and methods (Functions). Like Car is Class having attribute,wheels, color,transmition, model, make, so on and method start, climate control, cruise control,..."
   ]
  },
  {
   "cell_type": "code",
   "execution_count": 1,
   "id": "c90d79db-ef24-4b49-b484-632af7177f25",
   "metadata": {},
   "outputs": [],
   "source": [
    "# to initiate a class use 'class' keyword\n",
    "class dog():\n",
    "    def __init__(self):\n",
    "        pass"
   ]
  },
  {
   "cell_type": "code",
   "execution_count": 2,
   "id": "8f4d579f-f56f-4b17-84b9-dfdc454ab139",
   "metadata": {},
   "outputs": [
    {
     "name": "stdout",
     "output_type": "stream",
     "text": [
      "<__main__.dog object at 0x000002048ECB4D40>\n"
     ]
    }
   ],
   "source": [
    "# objects are used to use to use or call a class\n",
    "buck = dog()\n",
    "print(buck)"
   ]
  },
  {
   "cell_type": "code",
   "execution_count": 6,
   "id": "1041e2bf-d0d1-438d-8abb-cfe47d05bce0",
   "metadata": {},
   "outputs": [],
   "source": [
    "# class with attributes\n",
    "\n",
    "class dog:\n",
    "    def __init__(self, name, breed): # init is the method\n",
    "        self.name = name # self is used to call object\n",
    "        self.breed = breed # name and breed are the attributes"
   ]
  },
  {
   "cell_type": "code",
   "execution_count": 7,
   "id": "4c998f33-e70c-4801-835b-f20d3bf9b9aa",
   "metadata": {},
   "outputs": [
    {
     "name": "stdout",
     "output_type": "stream",
     "text": [
      "Doggy\n",
      "German Shepphered\n"
     ]
    }
   ],
   "source": [
    "buck = dog('Doggy','German Shepphered') # buck is the object with name as 'Doggy' and breed as 'German Sheppered'\n",
    "print(buck.name)\n",
    "print(buck.breed)"
   ]
  },
  {
   "cell_type": "code",
   "execution_count": 28,
   "id": "89f5b482-ed96-4aef-aff5-427f087fa90e",
   "metadata": {},
   "outputs": [],
   "source": [
    "\n",
    "class dog:\n",
    "    def __init__(self, name, gender,age): # init is the method\n",
    "        self.name = name # self is used to call object\n",
    "        self.gender = gender # name and breed are the attributes\n",
    "        self.age = age\n",
    "\n",
    "    def bark(self):\n",
    "        print('Bark Bark')\n",
    "\n",
    "    def info(self):\n",
    "        print('The dog',self.name, 'is a', self.gender, 'having an age of',self.age, 'years'  )\n",
    "\n",
    "    def buddy(self,buddy):\n",
    "        self.buddy = buddy\n",
    "        buddy.buddy = self"
   ]
  },
  {
   "cell_type": "code",
   "execution_count": 34,
   "id": "e3d78110-9b13-4c03-a9f1-acee4cb17242",
   "metadata": {},
   "outputs": [
    {
     "name": "stdout",
     "output_type": "stream",
     "text": [
      "German Shepphered\n",
      "Bull dog\n"
     ]
    }
   ],
   "source": [
    "buck = dog('German Shepphered','male','20') # buck is the object with name as 'Doggy' and breed as 'German Sheppered'\n",
    "fillow = dog('Bull dog','Female','10')\n",
    "buck.buddy(fillow)\n",
    "print(buck.name)\n",
    "print(buck.buddy.name)\n",
    "\n",
    " ##buck.bark()"
   ]
  },
  {
   "cell_type": "code",
   "execution_count": 10,
   "id": "1d794eae-f8c1-4881-9c80-49ad0922b34f",
   "metadata": {},
   "outputs": [
    {
     "name": "stdout",
     "output_type": "stream",
     "text": [
      "Doggy\n",
      "German Shepphered\n"
     ]
    }
   ],
   "source": [
    "tiger = dog('Tommy', 'Boxer')\n",
    "print(buck.name)\n",
    "print(buck.breed)"
   ]
  },
  {
   "cell_type": "code",
   "execution_count": 78,
   "id": "3b4ebe53-b100-4c5e-9f56-986f86887497",
   "metadata": {},
   "outputs": [],
   "source": [
    "class salani:\n",
    "    branches = 50\n",
    "    owner = 'Bashi Farooqui'\n",
    "    def __init__(self, name,gender ,age): # init is the method\n",
    "        self.name = name # self is used to call object\n",
    "        self.gender = gender # name and breed are the attributes\n",
    "        if not isinstance(age,int):\n",
    "            raise TypeError(\"Age must be an integer\")\n",
    "        self.age = age\n",
    "\n",
    "    def description(self):\n",
    "      return f'Salani is a helping poor peoples under the ownership of {salani.owner} with total {salani.branches} branches'\n",
    "    def student(self,teacher):\n",
    "       return f'The student{self.name} is a {self.gender} having an age of {self.age} years and teacher name is {teacher}'"
   ]
  },
  {
   "cell_type": "code",
   "execution_count": 79,
   "id": "282e3731-718b-417d-99e8-69f6fc4b6d22",
   "metadata": {},
   "outputs": [
    {
     "name": "stdout",
     "output_type": "stream",
     "text": [
      "Salani is a helping poor peoples under the ownership of Bashi Farooqui with total 50 branches\n",
      "The studentAamiz is a Male having an age of 30 years and teacher name is Hasan\n"
     ]
    }
   ],
   "source": [
    "obj = salani(\"Aamiz\",\"Male\",30)\n",
    "print(obj.description())\n",
    "print(obj.student(\"Hasan\"))\n"
   ]
  },
  {
   "cell_type": "markdown",
   "id": "7f4a443c-29c6-4333-9919-264e0a91e43b",
   "metadata": {},
   "source": [
    "# Class Method\n",
    "\n",
    "# Static Method"
   ]
  },
  {
   "cell_type": "code",
   "execution_count": 83,
   "id": "bd7e8424-ca0d-4585-ae0d-ed38cb16cda5",
   "metadata": {},
   "outputs": [
    {
     "name": "stdout",
     "output_type": "stream",
     "text": [
      "The age of student is 25\n"
     ]
    }
   ],
   "source": [
    "class student:\n",
    "    age = 25\n",
    "\n",
    "    @classmethod\n",
    "    def printage(self):\n",
    "        return 'The age of student is ' + str(self.age)\n",
    "\n",
    "stud = student.printage()\n",
    "print(stud)"
   ]
  },
  {
   "cell_type": "code",
   "execution_count": 89,
   "id": "2f0192bc-c28c-4329-a50f-bf361ea89d45",
   "metadata": {},
   "outputs": [
    {
     "name": "stdout",
     "output_type": "stream",
     "text": [
      "90\n",
      "89\n"
     ]
    }
   ],
   "source": [
    "class student:\n",
    "\n",
    "    @staticmethod\n",
    "    def printage(x,y):\n",
    "        return x+y\n",
    "\n",
    "stud = student.printage(89,1)\n",
    "print(stud)\n",
    "\n",
    "class Multiply:\n",
    "\n",
    "    @staticmethod\n",
    "    def printage(x,y):\n",
    "        return x*y\n",
    "\n",
    "mult = Multiply.printage(89,1)\n",
    "print(mult)"
   ]
  },
  {
   "cell_type": "markdown",
   "id": "51b33801-861c-4e9a-baf9-923f0f863c2c",
   "metadata": {},
   "source": [
    "# Inheritance"
   ]
  },
  {
   "cell_type": "code",
   "execution_count": null,
   "id": "cbcfc120-2c3a-46bb-a42a-92b7a0d8f102",
   "metadata": {},
   "outputs": [],
   "source": [
    "class parent():\n",
    "    def __init__(self, eye_color, skin_color):\n",
    "        self.eye_color =  eye_color\n",
    "        self.skin_color =  skin_color\n",
    "\n",
    "    def speak(self):\n",
    "        return 'Cans speak easily'\n"
   ]
  }
 ],
 "metadata": {
  "kernelspec": {
   "display_name": "Python 3 (ipykernel)",
   "language": "python",
   "name": "python3"
  },
  "language_info": {
   "codemirror_mode": {
    "name": "ipython",
    "version": 3
   },
   "file_extension": ".py",
   "mimetype": "text/x-python",
   "name": "python",
   "nbconvert_exporter": "python",
   "pygments_lexer": "ipython3",
   "version": "3.12.7"
  }
 },
 "nbformat": 4,
 "nbformat_minor": 5
}
