{
 "cells": [
  {
   "cell_type": "markdown",
   "metadata": {},
   "source": [
    "# Part -1 Python Basics (Variables)"
   ]
  },
  {
   "cell_type": "markdown",
   "metadata": {},
   "source": [
    "1. Print Your Name with your Father name and Date of birth using suitable escape sequence charactor"
   ]
  },
  {
   "cell_type": "code",
   "execution_count": 2,
   "metadata": {},
   "outputs": [
    {
     "name": "stdout",
     "output_type": "stream",
     "text": [
      "Muhammad Yasir\n",
      "Muhammad Nazir\n",
      "17-09-2005\n"
     ]
    }
   ],
   "source": [
    "print(\"Muhammad Yasir\\nMuhammad Nazir\\n17-09-2005\")\n"
   ]
  },
  {
   "cell_type": "markdown",
   "metadata": {},
   "source": [
    "2. Write your small bio using variables and print it using print function"
   ]
  },
  {
   "cell_type": "code",
   "execution_count": 3,
   "metadata": {},
   "outputs": [
    {
     "name": "stdout",
     "output_type": "stream",
     "text": [
      "My name is Muhammad Yasir. I am a Software Engineer.\n",
      "My current focus is to become a skilled React developer.\n",
      "I enjoy exploring new technologies in my free time.\n"
     ]
    }
   ],
   "source": [
    "\n",
    "name = \"Muhammad Yasir\"\n",
    "profession = \"Software Engineer\"\n",
    "goal = \"become a skilled React developer\"\n",
    "hobby = \"exploring new technologies\"\n",
    "\n",
    "print(f\"My name is {name}. I am a {profession}.\")\n",
    "print(f\"My current focus is to {goal}.\")\n",
    "print(f\"I enjoy {hobby} in my free time.\")\n"
   ]
  },
  {
   "cell_type": "markdown",
   "metadata": {},
   "source": [
    "3. Write a program in which use all the operators we can use in Python"
   ]
  },
  {
   "cell_type": "code",
   "execution_count": 1,
   "metadata": {},
   "outputs": [
    {
     "name": "stdout",
     "output_type": "stream",
     "text": [
      "Arithmetic Operators:\n",
      "Addition: 10 + 3 = 13\n",
      "Subtraction: 10 - 3 = 7\n",
      "Multiplication: 10 * 3 = 30\n",
      "Division: 10 / 3 = 3.3333333333333335\n",
      "Floor Division: 10 // 3 = 3\n",
      "Modulus: 10 % 3 = 1\n",
      "Exponentiation: 10 ** 3 = 1000\n",
      "\n",
      "Assignment Operators:\n",
      "c += 2: 7\n",
      "c -= 1: 6\n",
      "c *= 3: 18\n",
      "c /= 2: 9.0\n",
      "c %= 4: 1.0\n",
      "c **= 2: 1.0\n",
      "\n",
      "Comparison Operators:\n",
      "10 > 3: True\n",
      "10 < 3: False\n",
      "10 >= 3: True\n",
      "10 <= 3: False\n",
      "10 == 3: False\n",
      "10 != 3: True\n",
      "\n",
      "Logical Operators:\n",
      "x and y: False\n",
      "x or y: True\n",
      "not x: False\n",
      "\n",
      "Bitwise Operators:\n",
      "Bitwise AND: 5 & 3 = 1\n",
      "Bitwise OR: 5 | 3 = 7\n",
      "Bitwise XOR: 5 ^ 3 = 6\n",
      "Bitwise NOT: ~5 = -6\n",
      "Left Shift: 5 << 1 = 10\n",
      "Right Shift: 5 >> 1 = 2\n",
      "\n",
      "Identity Operators:\n",
      "a is b: False\n",
      "a is not b: True\n",
      "\n",
      "Membership Operators:\n",
      "3 in list1: True\n",
      "10 not in list1: True\n"
     ]
    }
   ],
   "source": [
    "# Arithmetic Operators\n",
    "a, b = 10, 3\n",
    "print(\"Arithmetic Operators:\")\n",
    "print(f\"Addition: {a} + {b} = {a + b}\")\n",
    "print(f\"Subtraction: {a} - {b} = {a - b}\")\n",
    "print(f\"Multiplication: {a} * {b} = {a * b}\")\n",
    "print(f\"Division: {a} / {b} = {a / b}\")\n",
    "print(f\"Floor Division: {a} // {b} = {a // b}\")\n",
    "print(f\"Modulus: {a} % {b} = {a % b}\")\n",
    "print(f\"Exponentiation: {a} ** {b} = {a ** b}\")\n",
    "\n",
    "print(\"\\nAssignment Operators:\")\n",
    "c = 5\n",
    "c += 2  # c = c + 2\n",
    "print(f\"c += 2: {c}\")\n",
    "c -= 1  # c = c - 1\n",
    "print(f\"c -= 1: {c}\")\n",
    "c *= 3  # c = c * 3\n",
    "print(f\"c *= 3: {c}\")\n",
    "c /= 2  # c = c / 2\n",
    "print(f\"c /= 2: {c}\")\n",
    "c %= 4  # c = c % 4\n",
    "print(f\"c %= 4: {c}\")\n",
    "c **= 2  # c = c ** 2\n",
    "print(f\"c **= 2: {c}\")\n",
    "\n",
    "print(\"\\nComparison Operators:\")\n",
    "print(f\"{a} > {b}: {a > b}\")\n",
    "print(f\"{a} < {b}: {a < b}\")\n",
    "print(f\"{a} >= {b}: {a >= b}\")\n",
    "print(f\"{a} <= {b}: {a <= b}\")\n",
    "print(f\"{a} == {b}: {a == b}\")\n",
    "print(f\"{a} != {b}: {a != b}\")\n",
    "\n",
    "print(\"\\nLogical Operators:\")\n",
    "x, y = True, False\n",
    "print(f\"x and y: {x and y}\")\n",
    "print(f\"x or y: {x or y}\")\n",
    "print(f\"not x: {not x}\")\n",
    "\n",
    "print(\"\\nBitwise Operators:\")\n",
    "p, q = 5, 3  # Binary: 5 = 101, 3 = 011\n",
    "print(f\"Bitwise AND: {p} & {q} = {p & q}\")  # 101 & 011 = 001\n",
    "print(f\"Bitwise OR: {p} | {q} = {p | q}\")   # 101 | 011 = 111\n",
    "print(f\"Bitwise XOR: {p} ^ {q} = {p ^ q}\")  # 101 ^ 011 = 110\n",
    "print(f\"Bitwise NOT: ~{p} = {~p}\")          # ~101 = -(5+1)\n",
    "print(f\"Left Shift: {p} << 1 = {p << 1}\")   # 101 << 1 = 1010\n",
    "print(f\"Right Shift: {p} >> 1 = {p >> 1}\")  # 101 >> 1 = 010\n",
    "\n",
    "print(\"\\nIdentity Operators:\")\n",
    "print(f\"a is b: {a is b}\")     # Checks if both refer to same object\n",
    "print(f\"a is not b: {a is not b}\")\n",
    "\n",
    "print(\"\\nMembership Operators:\")\n",
    "list1 = [1, 2, 3, 4, 5]\n",
    "print(f\"3 in list1: {3 in list1}\")\n",
    "print(f\"10 not in list1: {10 not in list1}\")\n"
   ]
  },
  {
   "cell_type": "markdown",
   "metadata": {},
   "source": [
    "4. Completes the following steps of small task:\n",
    "    - Mention Marks of English , Islamiat and Maths out of 100 in 3 different variables\n",
    "    - Mention Variable of Total Marks and assign 300 to it\n",
    "    - Calculate Percentage"
   ]
  },
  {
   "cell_type": "code",
   "execution_count": 13,
   "metadata": {},
   "outputs": [
    {
     "name": "stdout",
     "output_type": "stream",
     "text": [
      "80.0\n"
     ]
    }
   ],
   "source": [
    "english = 50\n",
    "isl = 90\n",
    "math = 100\n",
    "total = 300\n",
    "##calculating percentage\n",
    "obt_marks = english + isl+ math\n",
    "per = (obt_marks / total) * 100\n",
    "print(per)\n"
   ]
  }
 ],
 "metadata": {
  "kernelspec": {
   "display_name": "base",
   "language": "python",
   "name": "python3"
  },
  "language_info": {
   "codemirror_mode": {
    "name": "ipython",
    "version": 3
   },
   "file_extension": ".py",
   "mimetype": "text/x-python",
   "name": "python",
   "nbconvert_exporter": "python",
   "pygments_lexer": "ipython3",
   "version": "3.12.7"
  }
 },
 "nbformat": 4,
 "nbformat_minor": 4
}
