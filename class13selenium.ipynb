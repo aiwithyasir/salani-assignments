{
 "cells": [
  {
   "cell_type": "code",
   "execution_count": 1,
   "id": "5dc95ab3",
   "metadata": {},
   "outputs": [
    {
     "name": "stdout",
     "output_type": "stream",
     "text": [
      "Requirement already satisfied: selenium in c:\\users\\dr.pc\\anaconda3\\lib\\site-packages (3.141.0)Note: you may need to restart the kernel to use updated packages.\n",
      "\n",
      "Requirement already satisfied: urllib3 in c:\\users\\dr.pc\\anaconda3\\lib\\site-packages (from selenium) (1.26.20)\n"
     ]
    }
   ],
   "source": [
    "pip install selenium"
   ]
  },
  {
   "cell_type": "code",
   "execution_count": null,
   "id": "56db941e",
   "metadata": {},
   "outputs": [
    {
     "name": "stdout",
     "output_type": "stream",
     "text": [
      "2 - Ethereum\n",
      "ETH\n",
      "Buy - $1,829.06\n",
      "3 - Tether\n",
      "USDT\n",
      "Buy - $1.00\n",
      "4 - XRP\n",
      "XRP\n",
      "Buy - $2.19\n",
      "5 - BNB\n",
      "BNB\n",
      "Buy - $588.72\n",
      "6 - Solana\n",
      "SOL\n",
      "Buy - $146.83\n",
      "7 - USDC\n",
      "USDC\n",
      "Buy - $1.00\n",
      "8 - Dogecoin\n",
      "DOGE\n",
      "Buy - $0.1732\n",
      "9 - Cardano\n",
      "ADA\n",
      "Buy - $0.6893\n",
      "10 - TRON\n",
      "TRX\n",
      "Buy - $0.2476\n",
      "11 - Sui\n",
      "SUI\n",
      "Buy - $3.27\n"
     ]
    }
   ],
   "source": [
    "from selenium import webdriver\n",
    "from selenium.webdriver.chrome.service import Service\n",
    "from selenium.webdriver.chrome.options import Options\n",
    "from selenium.webdriver.common.by import By\n",
    "\n",
    "options = Options()\n",
    "options.add_argument(\"--headless\")\n",
    "path = r'C:\\chromedriver-win64\\chromedriver.exe'\n",
    "service = Service(path)\n",
    "service.start()\n",
    "\n",
    "driver = webdriver.Chrome(path, options=options)\n",
    "driver.get(\"https://coinmarketcap.com/\")\n",
    "\n",
    "rows = driver.find_elements(By.XPATH, '//table[contains(@class, \"cmc-table\")]//tbody/tr')\n",
    "\n",
    "for row in rows[:10]:\n",
    "    cols = row.find_elements(By.TAG_NAME, 'td')\n",
    "    rank = cols[1].text\n",
    "    name = cols[2].text\n",
    "    price = cols[3].text\n",
    "    hour_change = cols[4].text\n",
    "    day_change = cols[5].text\n",
    "    week_change = cols[6].text\n",
    "    market_cap = cols[7].text\n",
    "    volume = cols[8].text\n",
    "\n",
    "    print(f\"{rank} - {name} - {price}\")"
   ]
  },
  {
   "cell_type": "code",
   "execution_count": null,
   "id": "778159d3",
   "metadata": {},
   "outputs": [],
   "source": []
  }
 ],
 "metadata": {
  "kernelspec": {
   "display_name": "base",
   "language": "python",
   "name": "python3"
  },
  "language_info": {
   "codemirror_mode": {
    "name": "ipython",
    "version": 3
   },
   "file_extension": ".py",
   "mimetype": "text/x-python",
   "name": "python",
   "nbconvert_exporter": "python",
   "pygments_lexer": "ipython3",
   "version": "3.12.7"
  }
 },
 "nbformat": 4,
 "nbformat_minor": 5
}
