{
 "cells": [
  {
   "cell_type": "code",
   "execution_count": 1,
   "id": "5dc95ab3",
   "metadata": {},
   "outputs": [
    {
     "name": "stdout",
     "output_type": "stream",
     "text": [
      "Requirement already satisfied: selenium in c:\\users\\dr.pc\\anaconda3\\lib\\site-packages (3.141.0)Note: you may need to restart the kernel to use updated packages.\n",
      "\n",
      "Requirement already satisfied: urllib3 in c:\\users\\dr.pc\\anaconda3\\lib\\site-packages (from selenium) (1.26.20)\n"
     ]
    }
   ],
   "source": [
    "pip install selenium"
   ]
  },
  {
   "cell_type": "code",
   "execution_count": null,
   "id": "56db941e",
   "metadata": {},
   "outputs": [
    {
     "name": "stdout",
     "output_type": "stream",
     "text": [
      "✅ Data saved to 'coinmarketcap_data.xlsx'\n"
     ]
    }
   ],
   "source": [
    "from selenium import webdriver\n",
    "from selenium.webdriver.chrome.service import Service\n",
    "from selenium.webdriver.chrome.options import Options\n",
    "from selenium.webdriver.common.by import By\n",
    "import pandas as pd\n",
    "import time\n",
    "\n",
    "options = Options()\n",
    "options.add_argument(\"--headless\")\n",
    "options.add_argument(\"--disable-gpu\")\n",
    "options.add_argument(\"--window-size=1920,1080\")\n",
    "\n",
    "path = r'C:\\chromedriver-win64\\chromedriver.exe'\n",
    "service = Service(path)\n",
    "service.start()\n",
    "\n",
    "driver = webdriver.Chrome(path, options=options)\n",
    "driver.get(\"https://coinmarketcap.com/\")\n",
    "\n",
    "scroll_pause_time = 1\n",
    "scroll_step = 500 \n",
    "\n",
    "last_height = driver.execute_script(\"return document.body.scrollHeight\")\n",
    "current_scroll = 0\n",
    "\n",
    "while current_scroll < last_height:\n",
    "    driver.execute_script(f\"window.scrollBy(0, {scroll_step});\")\n",
    "    time.sleep(scroll_pause_time)\n",
    "    current_scroll += scroll_step\n",
    "    new_height = driver.execute_script(\"return document.body.scrollHeight\")\n",
    "    if new_height > last_height:\n",
    "        last_height = new_height\n",
    "\n",
    "driver.execute_script(\"window.scrollTo(0, document.body.scrollHeight);\")\n",
    "time.sleep(3)\n",
    "\n",
    "data = []\n",
    "\n",
    "rows = driver.find_elements(By.XPATH, '//table[contains(@class, \"cmc-table\")]//tbody/tr')\n",
    "\n",
    "for row in rows:\n",
    "    cols = row.find_elements(By.TAG_NAME, 'td')\n",
    "    try:\n",
    "        data.append({\n",
    "            \"Rank\": cols[1].text,\n",
    "            \"Name\": cols[2].text,\n",
    "            \"Price\": cols[3].text,\n",
    "            \"1h %\": cols[4].text,\n",
    "            \"24h %\": cols[5].text,\n",
    "            \"7d %\": cols[6].text,\n",
    "            \"Market Cap\": cols[7].text,\n",
    "            \"Volume(24h)\": cols[8].text\n",
    "        })\n",
    "    except IndexError:\n",
    "        continue \n",
    "\n",
    "driver.quit()\n",
    "\n",
    "df = pd.DataFrame(data)\n",
    "df.to_excel(\"coinmarketcap_data.xlsx\", index=False)\n",
    "\n",
    "print(\"✅ Data saved to 'coinmarketcap_data.xlsx'\")\n"
   ]
  },
  {
   "cell_type": "code",
   "execution_count": null,
   "id": "778159d3",
   "metadata": {},
   "outputs": [],
   "source": []
  }
 ],
 "metadata": {
  "kernelspec": {
   "display_name": "base",
   "language": "python",
   "name": "python3"
  },
  "language_info": {
   "codemirror_mode": {
    "name": "ipython",
    "version": 3
   },
   "file_extension": ".py",
   "mimetype": "text/x-python",
   "name": "python",
   "nbconvert_exporter": "python",
   "pygments_lexer": "ipython3",
   "version": "3.12.7"
  }
 },
 "nbformat": 4,
 "nbformat_minor": 5
}
